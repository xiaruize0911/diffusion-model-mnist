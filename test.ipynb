{
 "cells": [
  {
   "cell_type": "code",
   "execution_count": 45,
   "id": "8ee708ce",
   "metadata": {},
   "outputs": [],
   "source": [
    "import torch\n",
    "\n",
    "import torch.nn as nn\n",
    "import torch.nn.functional as F\n",
    "\n",
    "class Residual(nn.Module):\n",
    "    def __init__(self,input_channels, num_channels, use_1x1conv = False, strides = 1):\n",
    "        super(Residual, self).__init__()\n",
    "        self.conv1 = nn.Conv2d(input_channels, num_channels, kernel_size=3, stride=strides, padding=1)\n",
    "        self.conv2 = nn.Conv2d(num_channels, num_channels, kernel_size=3, padding=1)\n",
    "        if use_1x1conv:\n",
    "            self.conv3 = nn.Conv2d(input_channels, num_channels, kernel_size=1, stride=strides, padding=0)\n",
    "        else:\n",
    "            self.conv3 = None\n",
    "        self.bn1 = nn.BatchNorm2d(num_channels)\n",
    "        self.bn2 = nn.BatchNorm2d(num_channels)\n",
    "\n",
    "    def forward(self, x):\n",
    "        Y = F.relu(self.bn1(self.conv1(x)))\n",
    "        Y = self.bn2(self.conv2(Y))\n",
    "        if self.conv3 is not None:\n",
    "            x = self.conv3(x)\n",
    "        Y += x\n",
    "        return F.relu(Y)\n",
    "\n",
    "def resnet_block(input_channels, num_channels,num_residuals, first_block = False):\n",
    "    blk = []\n",
    "    for i in range(num_residuals):\n",
    "        if i == 0 and not first_block:\n",
    "            blk.append(Residual(input_channels, num_channels, use_1x1conv=True))\n",
    "        else:\n",
    "            blk.append(Residual(num_channels, num_channels))\n",
    "    return blk\n",
    "\n",
    "class ResNet(nn.Module):\n",
    "    def __init__(self,in_channels=1, out_channels=1):\n",
    "        super().__init__()\n",
    "        self.net = nn.Sequential(\n",
    "                                nn.Conv2d(in_channels,16,kernel_size=3,padding=1),\n",
    "                                nn.BatchNorm2d(16),\n",
    "                                nn.ReLU(),\n",
    "                                nn.MaxPool2d(kernel_size=4,padding=1),\n",
    "                                nn.Sequential(*resnet_block(16, 16, 2, first_block=True)),\n",
    "                                nn.Sequential(*resnet_block(16, 32, 2)),\n",
    "                                nn.Sequential(*resnet_block(32, 64, 2)),\n",
    "                                nn.AdaptiveAvgPool2d((28,28)),\n",
    "                                nn.Conv2d(64, out_channels, kernel_size=1)\n",
    "                                )\n",
    "    def forward(self, x):\n",
    "        return self.net(x)"
   ]
  },
  {
   "cell_type": "code",
   "execution_count": 46,
   "id": "ee99e456",
   "metadata": {},
   "outputs": [
    {
     "name": "stdout",
     "output_type": "stream",
     "text": [
      "torch.Size([128, 1, 28, 28])\n",
      "torch.Size([128, 1, 28, 28])\n"
     ]
    }
   ],
   "source": [
    "x = torch.randn(128, 1, 28, 28).to('mps')  # Example input\n",
    "model = ResNet().to('mps')\n",
    "print(x.shape)\n",
    "output = model(x)\n",
    "print(output.shape)"
   ]
  }
 ],
 "metadata": {
  "kernelspec": {
   "display_name": "diffusion_model_mnist",
   "language": "python",
   "name": "python3"
  },
  "language_info": {
   "codemirror_mode": {
    "name": "ipython",
    "version": 3
   },
   "file_extension": ".py",
   "mimetype": "text/x-python",
   "name": "python",
   "nbconvert_exporter": "python",
   "pygments_lexer": "ipython3",
   "version": "3.13.5"
  }
 },
 "nbformat": 4,
 "nbformat_minor": 5
}
